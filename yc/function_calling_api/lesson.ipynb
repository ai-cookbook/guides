{
 "cells": [
  {
   "cell_type": "code",
   "execution_count": 1,
   "metadata": {},
   "outputs": [],
   "source": [
    "from fc_utils import chat_completion_request, pretty_print_conversation, get_function_call_from_response, process_functions"
   ]
  },
  {
   "cell_type": "markdown",
   "metadata": {},
   "source": [
    "### Простой запрос к YandexGPT"
   ]
  },
  {
   "cell_type": "code",
   "execution_count": 2,
   "metadata": {},
   "outputs": [
    {
     "name": "stdout",
     "output_type": "stream",
     "text": [
      "\u001b[32muser: Сколько денег у меня на балансе?\n",
      "\u001b[0m\n",
      "\u001b[34massistant: К сожалению, я не могу ответить на этот вопрос, так как у меня нет доступа к информации о вашем банковском счёте или балансе. Чтобы узнать, сколько денег у вас на балансе, вам нужно проверить свой банковский счёт через мобильное приложение банка или официальный веб-сайт.\n",
      "\u001b[0m\n"
     ]
    }
   ],
   "source": [
    "messages = []\n",
    "messages.append({\"role\": \"user\", \"text\": \"Сколько денег у меня на балансе?\"})\n",
    "\n",
    "response = chat_completion_request(messages)\n",
    "messages.append(response['result']['alternatives'][0]['message'])\n",
    "\n",
    "pretty_print_conversation(messages)"
   ]
  },
  {
   "cell_type": "markdown",
   "metadata": {},
   "source": [
    "### Использование инструментов"
   ]
  },
  {
   "cell_type": "code",
   "execution_count": 3,
   "metadata": {},
   "outputs": [],
   "source": [
    "weather_tool = {\n",
    "            \"function\": {\n",
    "                \"name\": \"WeatherTool\",\n",
    "                \"description\": \"Ходит в API и получает погоду в городе\",\n",
    "                \"parameters\": {\n",
    "                    \"type\": \"object\",\n",
    "                    \"properties\": {\n",
    "                        \"city\": {\n",
    "                            \"type\": \"string\",\n",
    "                            \"description\": \"Название города, для которого нужно получить погоду.\"\n",
    "                        },\n",
    "                        \"units\": {\n",
    "                            \"type\": \"string\",\n",
    "                            \"enum\": [\"metric\", \"imperial\"],\n",
    "                                \"default\": \"metric\",\n",
    "                                \"description\": \"Единицы измерения температуры. 'metric' для Цельсия, 'imperial' для Фаренгейта.\"\n",
    "                            },\n",
    "                            \"regions\": {\n",
    "                                \"type\": \"array\",\n",
    "                                \"default\": [\"center\"],\n",
    "                                \"description\": \"Части города, для которых нужно получить погоду. Например: ['center', 'west', 'east']\"\n",
    "                            },\n",
    "                            \"days\": {\n",
    "                                \"type\": \"integer\",\n",
    "                                \"default\": 1,\n",
    "                                \"description\": \"Количество дней, для которых нужно получить погоду, начиная с текущего дня.\"\n",
    "                            }\n",
    "                    },\n",
    "                    \"required\": [\"city\"],\n",
    "                    \"additionalProperties\": False\n",
    "                }\n",
    "            }\n",
    "        }"
   ]
  },
  {
   "cell_type": "markdown",
   "metadata": {},
   "source": [
    "### Спросим о балансе c инструментом balance_tool\n"
   ]
  },
  {
   "cell_type": "code",
   "execution_count": 4,
   "metadata": {},
   "outputs": [],
   "source": [
    "balance_tool = {\n",
    "        \"function\": {\n",
    "            \"name\": \"BalanceTool\",\n",
    "            \"description\": \"Получает баланс пользователя в рублях из базы данных.\",\n",
    "            \"parameters\": {\n",
    "                \"type\": \"object\",\n",
    "                \"properties\": {\n",
    "                    \"userId\": {\n",
    "                        \"type\": \"string\",\n",
    "                        \"description\": \"Идентификатор пользователя, для которого нужно получить баланс.\"\n",
    "                    }\n",
    "                },\n",
    "                \"required\": [\"userId\"],\n",
    "                \"additionalProperties\": False\n",
    "            }\n",
    "        }\n",
    "    }"
   ]
  },
  {
   "cell_type": "code",
   "execution_count": 5,
   "metadata": {},
   "outputs": [
    {
     "name": "stdout",
     "output_type": "stream",
     "text": [
      "\u001b[31msystem: Ты - полезный бот, который помогает пользователю с его проблемами. Ты можешь использовать инструменты, чтобы получить актуальную информацию. Но пользоваться ими нужно не всегда. \n",
      "\n",
      "Информация о сессии:\n",
      "Текущее время: 12:11. Текущий userId пользователя: wg359g3f39\n",
      "\u001b[0m\n",
      "\u001b[32muser: Сколько у меня денег на балансе?\n",
      "\u001b[0m\n",
      "\u001b[35massistant: {'toolCalls': [{'functionCall': {'name': 'BalanceTool', 'arguments': {'userId': 'wg359g3f39'}}}]}\n",
      "\u001b[0m\n"
     ]
    }
   ],
   "source": [
    "session_info = \"\\n\\nИнформация о сессии:\\nТекущее время: 12:11. Текущий userId пользователя: wg359g3f39\"\n",
    "\n",
    "messages = []\n",
    "messages.append({\"role\": \"system\", \"text\": f\"Ты - полезный бот, который помогает пользователю с его проблемами. Ты можешь использовать инструменты, чтобы получить актуальную информацию. Но пользоваться ими нужно не всегда. {session_info}\"})\n",
    "messages.append({\"role\": \"user\", \"text\": \"Сколько у меня денег на балансе?\"})\n",
    "\n",
    "response = chat_completion_request(messages, tools=[balance_tool])\n",
    "\n",
    "toolCalls: list = get_function_call_from_response(response)\n",
    "messages.append({\n",
    "    'role': 'assistant',\n",
    "    'toolCallList': {'toolCalls': toolCalls}\n",
    "})\n",
    "\n",
    "pretty_print_conversation(messages)"
   ]
  },
  {
   "cell_type": "markdown",
   "metadata": {},
   "source": [
    "Выполним функцию, и вернем результат обратно gpt"
   ]
  },
  {
   "cell_type": "code",
   "execution_count": 6,
   "metadata": {},
   "outputs": [
    {
     "name": "stdout",
     "output_type": "stream",
     "text": [
      "\u001b[31msystem: Ты - полезный бот, который помогает пользователю с его проблемами. Ты можешь использовать инструменты, чтобы получить актуальную информацию. Но пользоваться ими нужно не всегда. \n",
      "\n",
      "Информация о сессии:\n",
      "Текущее время: 12:11. Текущий userId пользователя: wg359g3f39\n",
      "\u001b[0m\n",
      "\u001b[32muser: Сколько у меня денег на балансе?\n",
      "\u001b[0m\n",
      "\u001b[35massistant: {'toolCalls': [{'functionCall': {'name': 'BalanceTool', 'arguments': {'userId': 'wg359g3f39'}}}]}\n",
      "\u001b[0m\n",
      "\u001b[35massistant: {'toolResults': [{'functionResult': {'name': 'BalanceTool', 'content': \"{'userId': 'wg359g3f39', 'balance': 10000}\"}}]}\n",
      "\u001b[0m\n",
      "\u001b[34massistant: На вашем балансе 10000 рублей.\n",
      "\u001b[0m\n"
     ]
    }
   ],
   "source": [
    "toolResults: list = process_functions(toolCalls)\n",
    "messages.append({\n",
    "    'role': 'assistant',\n",
    "    'toolResultList': {'toolResults': toolResults}\n",
    "})\n",
    "\n",
    "response = chat_completion_request(messages, tools=[balance_tool])\n",
    "messages.append(response['result']['alternatives'][0]['message'])\n",
    "pretty_print_conversation(messages)"
   ]
  },
  {
   "cell_type": "markdown",
   "metadata": {},
   "source": [
    "### Параллельное использование инструментов"
   ]
  },
  {
   "cell_type": "code",
   "execution_count": 17,
   "metadata": {},
   "outputs": [],
   "source": [
    "product_list_tool = {\n",
    "            \"function\": {\n",
    "                \"name\": \"ProductListTool\",\n",
    "                \"description\": \"Получает список товаров из базы данных на основе заданных параметров. Позволяет фильтровать товары по диапазону цен, категории и критерию сортировки.\",\n",
    "                \"parameters\": {\n",
    "                    \"type\": \"object\",\n",
    "                    \"properties\": {\n",
    "                        \"priceMinMax\": {\n",
    "                            \"type\": \"array\",\n",
    "                            \"items\": {\n",
    "                                \"type\": \"number\"\n",
    "                            },\n",
    "                            \"description\": \"Диапазон цен в формате [минимальная цена, максимальная цена]. Позволяет пользователю указать, какие товары его интересуют в пределах заданного ценового диапазона.\"\n",
    "                        },\n",
    "                        \"category\": {\n",
    "                            \"type\": \"string\",\n",
    "                            \"description\": \"Категория товаров, по которой будет осуществляться фильтрация. Например, 'электроника', 'одежда', 'книги', 'дом и сад'. Это позволяет пользователю сузить поиск до определенной группы товаров.\"\n",
    "                        },\n",
    "                        \"sortBy\": {\n",
    "                            \"type\": \"string\",\n",
    "                            \"enum\": [\"price\", \"popularity\", \"rating\"],\n",
    "                            \"description\": \"Критерий сортировки товаров. Возможные значения: 'price' для сортировки по цене, 'popularity' для сортировки по популярности, 'rating' для сортировки по рейтингу. Это позволяет пользователю получить список товаров в удобном для него порядке.\"\n",
    "                        }\n",
    "                    },\n",
    "                    \"required\": [\"priceMinMax\", \"category\"],\n",
    "                    \"additionalProperties\": False\n",
    "                }\n",
    "            }\n",
    "        }\n",
    "\n",
    "order_tool = {\n",
    "        \"function\": {\n",
    "            \"name\": \"OrderTool\",\n",
    "            \"description\": \"инструмент, который заказывает товар по его идентификатору productId\",\n",
    "            \"parameters\": {\n",
    "                \"type\": \"object\",\n",
    "                \"properties\": {\n",
    "                    \"productId\": {\n",
    "                        \"type\": \"string\",\n",
    "                        \"description\": \"Идентификатор товара, который нужно заказать.\"\n",
    "                    },\n",
    "                    \"quantity\": {\n",
    "                        \"type\": \"integer\",\n",
    "                        \"description\": \"Количество товара для заказа.\",\n",
    "                        \"default\": 1,\n",
    "                        \"minimum\": 1\n",
    "                    }\n",
    "                },\n",
    "                \"required\": [\"productId\", \"quantity\"],\n",
    "                \"additionalProperties\": False\n",
    "            }\n",
    "        }\n",
    "    }"
   ]
  },
  {
   "cell_type": "code",
   "execution_count": 28,
   "metadata": {},
   "outputs": [
    {
     "name": "stdout",
     "output_type": "stream",
     "text": [
      "\u001b[31msystem: Ты - полезный бот, который помогает пользователю с его проблемами. Ты можешь использовать инструменты, чтобы получить актуальную информацию. Но пользоваться ими нужно не всегда. Если пользователь ищет товары, то всегда параллельно с вызовом инструмента ProductListTool вызывай и BalanceTool. \n",
      "\n",
      "Информация о сессии:\n",
      "Текущее время: 12:11. Текущий userId пользователя: wg359g3f39\n",
      "\u001b[0m\n",
      "\u001b[32muser: Покажи мне товары категории 'электроника' в диапазоне цен от 1000 до 50000 рублей, отсортированные по популярности, которые я могу себе позволить купить с учетом моего баланса. Показывай только те товары, которые я могу себе позволить купить.\n",
      "\u001b[0m\n",
      "\u001b[35massistant: {'toolCalls': [{'functionCall': {'name': 'ProductListTool', 'arguments': {'category': 'электроника', 'priceMinMax': [1000, 50000], 'sortBy': 'popularity'}}}, {'functionCall': {'name': 'BalanceTool', 'arguments': {'userId': 'wg359g3f39'}}}]}\n",
      "\u001b[0m\n"
     ]
    }
   ],
   "source": [
    "session_info = \"\\n\\nИнформация о сессии:\\nТекущее время: 12:11. Текущий userId пользователя: wg359g3f39\"\n",
    "tools = [product_list_tool, balance_tool, order_tool]\n",
    "\n",
    "messages = []\n",
    "messages.append({\"role\": \"system\", \"text\": f\"Ты - полезный бот, который помогает пользователю с его проблемами. Ты можешь использовать инструменты, чтобы получить актуальную информацию. Но пользоваться ими нужно не всегда. Если пользователь ищет товары, то всегда параллельно с вызовом инструмента ProductListTool вызывай и BalanceTool. {session_info}\"})\n",
    "messages.append({\"role\": \"user\", \"text\": \"Покажи мне товары категории 'электроника' в диапазоне цен от 1000 до 50000 рублей, отсортированные по популярности, которые я могу себе позволить купить с учетом моего баланса. Показывай только те товары, которые я могу себе позволить купить.\"})\n",
    "\n",
    "response = chat_completion_request(messages, tools=tools)\n",
    "\n",
    "toolCalls: list = get_function_call_from_response(response)\n",
    "messages.append({\n",
    "    'role': 'assistant',\n",
    "    'toolCallList': {'toolCalls': toolCalls}\n",
    "})\n",
    "\n",
    "pretty_print_conversation(messages)"
   ]
  },
  {
   "cell_type": "code",
   "execution_count": 29,
   "metadata": {},
   "outputs": [
    {
     "name": "stdout",
     "output_type": "stream",
     "text": [
      "\u001b[31msystem: Ты - полезный бот, который помогает пользователю с его проблемами. Ты можешь использовать инструменты, чтобы получить актуальную информацию. Но пользоваться ими нужно не всегда. Если пользователь ищет товары, то всегда параллельно с вызовом инструмента ProductListTool вызывай и BalanceTool. \n",
      "\n",
      "Информация о сессии:\n",
      "Текущее время: 12:11. Текущий userId пользователя: wg359g3f39\n",
      "\u001b[0m\n",
      "\u001b[32muser: Покажи мне товары категории 'электроника' в диапазоне цен от 1000 до 50000 рублей, отсортированные по популярности, которые я могу себе позволить купить с учетом моего баланса. Показывай только те товары, которые я могу себе позволить купить.\n",
      "\u001b[0m\n",
      "\u001b[35massistant: {'toolCalls': [{'functionCall': {'name': 'ProductListTool', 'arguments': {'category': 'электроника', 'priceMinMax': [1000, 50000], 'sortBy': 'popularity'}}}, {'functionCall': {'name': 'BalanceTool', 'arguments': {'userId': 'wg359g3f39'}}}]}\n",
      "\u001b[0m\n",
      "\u001b[35massistant: {'toolResults': [{'functionResult': {'name': 'ProductListTool', 'content': \"[{'productId': 'siaomi453', 'name': 'сяоми 4+ pro', 'category': 'электроника', 'price': 10000}, {'productId': 'iphone15', 'name': 'iphone 15', 'category': 'электроника', 'price': 280000}]\"}}, {'functionResult': {'name': 'BalanceTool', 'content': \"{'userId': 'wg359g3f39', 'balance': 10000}\"}}]}\n",
      "\u001b[0m\n",
      "\u001b[34massistant: Вы можете себе позволить купить следующие товары:\n",
      "\n",
      "1. **Сяоми 4+ pro**\n",
      "   - **Категория:** Электроника\n",
      "   - **Цена:** 10000 рублей\n",
      "   - **Идентификатор:** siaomi453\n",
      "\n",
      "Этот товар соответствует вашему ценовому диапазону и доступному балансу.\n",
      "\u001b[0m\n"
     ]
    }
   ],
   "source": [
    "toolResults: list = process_functions(toolCalls)\n",
    "messages.append({\n",
    "    'role': 'assistant',\n",
    "    'toolResultList': {'toolResults': toolResults}\n",
    "})\n",
    "\n",
    "response = chat_completion_request(messages, tools=tools)\n",
    "messages.append(response['result']['alternatives'][0]['message'])\n",
    "pretty_print_conversation(messages)"
   ]
  },
  {
   "cell_type": "code",
   "execution_count": 30,
   "metadata": {},
   "outputs": [
    {
     "name": "stdout",
     "output_type": "stream",
     "text": [
      "\u001b[31msystem: Ты - полезный бот, который помогает пользователю с его проблемами. Ты можешь использовать инструменты, чтобы получить актуальную информацию. Но пользоваться ими нужно не всегда. Если пользователь ищет товары, то всегда параллельно с вызовом инструмента ProductListTool вызывай и BalanceTool. \n",
      "\n",
      "Информация о сессии:\n",
      "Текущее время: 12:11. Текущий userId пользователя: wg359g3f39\n",
      "\u001b[0m\n",
      "\u001b[32muser: Покажи мне товары категории 'электроника' в диапазоне цен от 1000 до 50000 рублей, отсортированные по популярности, которые я могу себе позволить купить с учетом моего баланса. Показывай только те товары, которые я могу себе позволить купить.\n",
      "\u001b[0m\n",
      "\u001b[35massistant: {'toolCalls': [{'functionCall': {'name': 'ProductListTool', 'arguments': {'category': 'электроника', 'priceMinMax': [1000, 50000], 'sortBy': 'popularity'}}}, {'functionCall': {'name': 'BalanceTool', 'arguments': {'userId': 'wg359g3f39'}}}]}\n",
      "\u001b[0m\n",
      "\u001b[35massistant: {'toolResults': [{'functionResult': {'name': 'ProductListTool', 'content': \"[{'productId': 'siaomi453', 'name': 'сяоми 4+ pro', 'category': 'электроника', 'price': 10000}, {'productId': 'iphone15', 'name': 'iphone 15', 'category': 'электроника', 'price': 280000}]\"}}, {'functionResult': {'name': 'BalanceTool', 'content': \"{'userId': 'wg359g3f39', 'balance': 10000}\"}}]}\n",
      "\u001b[0m\n",
      "\u001b[34massistant: Вы можете себе позволить купить следующие товары:\n",
      "\n",
      "1. **Сяоми 4+ pro**\n",
      "   - **Категория:** Электроника\n",
      "   - **Цена:** 10000 рублей\n",
      "   - **Идентификатор:** siaomi453\n",
      "\n",
      "Этот товар соответствует вашему ценовому диапазону и доступному балансу.\n",
      "\u001b[0m\n",
      "\u001b[32muser: Как пелось у RX4D в \"запрети мне носить сяоми\", это лучший микрокомпьютер, топ за свои деньги. Оформи заказ на сяоми 4+\n",
      "\u001b[0m\n",
      "\u001b[35massistant: {'toolCalls': [{'functionCall': {'name': 'OrderTool', 'arguments': {'productId': 'siaomi453', 'quantity': 1}}}]}\n",
      "\u001b[0m\n",
      "\u001b[35massistant: {'toolResults': [{'functionResult': {'name': 'OrderTool', 'content': \"{'orderId': 'order123', 'productId': 'siaomi453', 'quantity': 1}\"}}]}\n",
      "\u001b[0m\n",
      "\u001b[34massistant: Ваш заказ на микрокомпьютер Xiaomi 4+ Pro успешно оформлен. Идентификатор заказа: order123. Ожидайте подтверждения от магазина.\n",
      "\u001b[0m\n"
     ]
    }
   ],
   "source": [
    "messages.append({\"role\": \"user\", \"text\": 'Как пелось у RX4D в \"запрети мне носить сяоми\", это лучший микрокомпьютер, топ за свои деньги. Оформи заказ на сяоми 4+'})\n",
    "\n",
    "response = chat_completion_request(messages, tools=tools)\n",
    "\n",
    "toolCalls: list = get_function_call_from_response(response)\n",
    "messages.append({\n",
    "    'role': 'assistant',\n",
    "    'toolCallList': {'toolCalls': toolCalls}\n",
    "})\n",
    "\n",
    "toolResults: list = process_functions(toolCalls)\n",
    "messages.append({\n",
    "    'role': 'assistant',\n",
    "    'toolResultList': {'toolResults': toolResults}\n",
    "})\n",
    "\n",
    "response = chat_completion_request(messages, tools=tools)\n",
    "messages.append(response['result']['alternatives'][0]['message'])\n",
    "pretty_print_conversation(messages)"
   ]
  },
  {
   "cell_type": "markdown",
   "metadata": {},
   "source": [
    "### Использование инструментов с нестрогими параметрами"
   ]
  },
  {
   "cell_type": "code",
   "execution_count": 40,
   "metadata": {},
   "outputs": [],
   "source": [
    "products_table_description = \"\"\"\n",
    "Таблица \"products\" предназначена для хранения информации о товарах, доступных в магазине. \n",
    "Каждый товар имеет следующие поля:\n",
    "- productId: уникальный идентификатор товара (TEXT, PRIMARY KEY)\n",
    "- name: название товара (TEXT, NOT NULL)\n",
    "- category: категория товара (TEXT, NOT NULL). Например: электроника, одежда, книги, дом, ягоды, сад\n",
    "- price: цена товара (REAL, NOT NULL)\n",
    "- num_of_orders: количество заказов данного товара (INTEGER, NOT NULL)\n",
    "- rating: рейтинг товара (REAL, NOT NULL)\n",
    "\"\"\"\n",
    "\n",
    "sql_tool = {\n",
    "        \"function\": {\n",
    "            \"name\": \"ask_database\",\n",
    "            \"description\": f\"Use this function to answer user questions about the database. Input should be a fully formed SQL query.\",\n",
    "            \"parameters\": {\n",
    "                \"type\": \"object\",\n",
    "                \"properties\": {\n",
    "                    \"query\": {\n",
    "                        \"type\": \"string\",\n",
    "                        \"description\": f\"\"\"\n",
    "                                SQL query extracting info to answer the user's question.\n",
    "                                SQL should be written using this database schema:\n",
    "                                {products_table_description}\n",
    "                                The query should be returned in plain text, not in JSON.\n",
    "                                \"\"\",\n",
    "                    }\n",
    "                },\n",
    "                \"required\": [\"query\"],\n",
    "            },\n",
    "        }\n",
    "    }\n",
    "\n"
   ]
  },
  {
   "cell_type": "code",
   "execution_count": 43,
   "metadata": {},
   "outputs": [
    {
     "name": "stdout",
     "output_type": "stream",
     "text": [
      "\u001b[31msystem: Ты - полезный бот, который помогает пользователю с его проблемами. Ты можешь использовать инструменты, чтобы получить актуальную информацию. Но пользоваться ими нужно не всегда. \n",
      "\n",
      "Информация о сессии:\n",
      "Текущее время: 12:11. Текущий userId пользователя: wg359g3f39\n",
      "\u001b[0m\n",
      "\u001b[32muser: Мне нужны все товары категории 'электроника', отсортированные по рейтингу, ценой меньше 30к.\n",
      "\u001b[0m\n",
      "\u001b[35massistant: {'toolCalls': [{'functionCall': {'name': 'ask_database', 'arguments': {'query': \"SELECT * FROM products WHERE category = 'электроника' AND price < 30000 ORDER BY rating\"}}}]}\n",
      "\u001b[0m\n",
      "\u001b[35massistant: {'toolResults': [{'functionResult': {'name': 'ask_database', 'content': \"[('3', 'Наушники DEF', 'электроника', 2999.99, 200, 4.2), ('5', 'Планшет JKL', 'электроника', 24999.99, 100, 4.3), ('1', 'Смартфон XYZ', 'электроника', 19999.99, 150, 4.5)]\"}}]}\n",
      "\u001b[0m\n",
      "\u001b[34massistant: Вот список всех товаров категории 'электроника', отсортированных по рейтингу, ценой меньше 30к:\n",
      "\n",
      "1. Смартфон XYZ\n",
      "   - Название: Смартфон XYZ\n",
      "   - Категория: электроника\n",
      "   - Цена: 19999.99\n",
      "   - Количество заказов: 150\n",
      "   - Рейтинг: 4.5\n",
      "\n",
      "2. Наушники DEF\n",
      "   - Название: Наушники DEF\n",
      "   - Категория: электроника\n",
      "   - Цена: 2999.99\n",
      "   - Количество заказов: 200\n",
      "   - Рейтинг: 4.2\n",
      "\n",
      "3. Планшет JKL\n",
      "   - Название: Планшет JKL\n",
      "   - Категория: электроника\n",
      "   - Цена: 24999.99\n",
      "   - Количество заказов: 100\n",
      "   - Рейтинг: 4.3\n",
      "\u001b[0m\n"
     ]
    }
   ],
   "source": [
    "session_info = \"\\n\\nИнформация о сессии:\\nТекущее время: 12:11. Текущий userId пользователя: wg359g3f39\"\n",
    "tools = [sql_tool, balance_tool, order_tool]\n",
    "\n",
    "messages = []\n",
    "messages.append({\"role\": \"system\", \"text\": f\"Ты - полезный бот, который помогает пользователю с его проблемами. Ты можешь использовать инструменты, чтобы получить актуальную информацию. Но пользоваться ими нужно не всегда. {session_info}\"})\n",
    "messages.append({\"role\": \"user\", \"text\": \"Мне нужны все товары категории 'электроника', отсортированные по рейтингу, ценой меньше 30к.\"})\n",
    "\n",
    "response = chat_completion_request(messages, tools=tools)\n",
    "\n",
    "toolCalls: list = get_function_call_from_response(response)\n",
    "messages.append({\n",
    "    'role': 'assistant',\n",
    "    'toolCallList': {'toolCalls': toolCalls}\n",
    "})\n",
    "\n",
    "toolResults: list = process_functions(toolCalls)\n",
    "messages.append({\n",
    "    'role': 'assistant',\n",
    "    'toolResultList': {'toolResults': toolResults}\n",
    "})\n",
    "\n",
    "response = chat_completion_request(messages, tools=tools)\n",
    "messages.append(response['result']['alternatives'][0]['message'])\n",
    "with open('output.md', 'w', encoding='utf-8') as f:\n",
    "        assistant_message = response['result']['alternatives'][0]['message']['text']\n",
    "        f.write(assistant_message)\n",
    "\n",
    "pretty_print_conversation(messages)"
   ]
  },
  {
   "cell_type": "markdown",
   "metadata": {},
   "source": [
    "### Запуск функций из Yandex Cloud Serverless Functions"
   ]
  },
  {
   "cell_type": "code",
   "execution_count": 2,
   "metadata": {},
   "outputs": [],
   "source": [
    "serverless_func_tool = {\n",
    "        \"function\": {\n",
    "            \"name\": \"serverless_func\",\n",
    "            \"description\": \"Запускает функцию на Yandex Cloud Serverless Functions\",\n",
    "            \"parameters\": {\n",
    "                \"type\": \"object\",\n",
    "                \"properties\": {\n",
    "                    \"name\": {\n",
    "                        \"type\": \"string\",\n",
    "                        \"description\": \"Название функции для запуска\"\n",
    "                    }\n",
    "                },\n",
    "                \"required\": [\"name\"],\n",
    "            },\n",
    "        }\n",
    "    }"
   ]
  },
  {
   "cell_type": "code",
   "execution_count": 7,
   "metadata": {},
   "outputs": [
    {
     "name": "stdout",
     "output_type": "stream",
     "text": [
      "\u001b[32muser: Запусти функцию в yandex cloud, передай имя 'David'\n",
      "\u001b[0m\n",
      "\u001b[35massistant: {'toolCalls': [{'functionCall': {'name': 'serverless_func', 'arguments': {'name': 'David'}}}]}\n",
      "\u001b[0m\n",
      "\u001b[35massistant: {'toolResults': [{'functionResult': {'name': 'serverless_func', 'content': 'Hello to David from serverless func!'}}]}\n",
      "\u001b[0m\n"
     ]
    }
   ],
   "source": [
    "tools = [serverless_func_tool]\n",
    "\n",
    "messages = []\n",
    "messages.append({\"role\": \"user\", \"text\": \"Запусти функцию в yandex cloud, передай имя 'David'\"})\n",
    "\n",
    "response = chat_completion_request(messages, tools=tools)\n",
    "\n",
    "toolCalls: list = get_function_call_from_response(response)\n",
    "messages.append({\n",
    "    'role': 'assistant',\n",
    "    'toolCallList': {'toolCalls': toolCalls}\n",
    "})\n",
    "\n",
    "toolResults: list = process_functions(toolCalls)\n",
    "messages.append({\n",
    "    'role': 'assistant',\n",
    "    'toolResultList': {'toolResults': toolResults}\n",
    "})\n",
    "\n",
    "pretty_print_conversation(messages)"
   ]
  },
  {
   "cell_type": "markdown",
   "metadata": {},
   "source": [
    "### Запрос в Нейро как интсрумент\n"
   ]
  },
  {
   "cell_type": "code",
   "execution_count": 3,
   "metadata": {},
   "outputs": [],
   "source": [
    "searchapi_tool = {\n",
    "        \"function\": {\n",
    "            \"name\": \"searchapi\",\n",
    "            \"description\": \"Отправляет запрос в поисковый движок по интернету Нейро и получает ответ\",\n",
    "            \"parameters\": {\n",
    "                \"type\": \"object\",\n",
    "                \"properties\": {\n",
    "                    \"query\": {\n",
    "                        \"type\": \"string\",\n",
    "                        \"description\": \"Запрос для поиска в интернете\"\n",
    "                    }\n",
    "                },\n",
    "                \"required\": [\"query\"],\n",
    "            },\n",
    "        }\n",
    "    }"
   ]
  },
  {
   "cell_type": "code",
   "execution_count": 9,
   "metadata": {},
   "outputs": [
    {
     "name": "stdout",
     "output_type": "stream",
     "text": [
      "\u001b[31msystem: Ты - полезный бот, который помогает пользователю с его проблемами. Старайся по возможности использовать инструмент searchapi, чтобы получить информацию из интернета.\n",
      "\u001b[0m\n",
      "\u001b[32muser: Погода в Москве\n",
      "\u001b[0m\n",
      "\u001b[35massistant: {'toolCalls': [{'functionCall': {'name': 'searchapi', 'arguments': {'query': 'Погода в Москве'}}}]}\n",
      "\u001b[0m\n",
      "\u001b[35massistant: {'toolResults': [{'functionResult': {'name': 'searchapi', 'content': 'Ответ SearchAPI:\\n**Погода в Москве на 28 ноября 2024 года:**\\n* 19:48: температура 0\\xa0°C, пасмурно, влажность 89%, ветер 2 м/с, вероятность осадков 0%. [2]\\n* 23:00: температура -1\\xa0°C, пасмурно, влажность 89%, ветер 2 м/с, вероятность осадков 0%. [2]\\n\\n**Прогноз на ближайшие дни:**\\n* 29 ноября: утро — температура +1\\xa0°C, дождь со снегом, влажность 91%, ветер 3 м/с, вероятность осадков 40%. [2] Днём — температура +2\\xa0°C, пасмурно, влажность 90%, ветер 3 м/с, вероятность осадков 0%. [2]\\n* 30 ноября: утро — температура +1\\xa0°C, пасмурно, влажность 89%, ветер 4 м/с, вероятность осадков 0%. [2] Днём — температура +2\\xa0°C, пасмурно, влажность 87%, ветер 4 м/с, вероятность осадков 0%. [2]\\n\\nБолее подробный прогноз погоды можно посмотреть на сайтах yandex.ru и weather.rambler.ru. [2][5]\\n\\nИсточники:\\nhttps://yandex.ru/pogoda/moscow\\nhttps://yandex.ru/pogoda/213?lat=55.7559&lon=37.6177\\nhttps://www.gismeteo.ru/weather-moscow-4368/\\nhttps://meteoinfo.ru/forecasts5000/russia/moscow-area\\nhttps://weather.rambler.ru/v-moskve/\\nhttps://world-weather.ru/pogoda/russia/moscow/'}}]}\n",
      "\u001b[0m\n",
      "\u001b[34massistant: Вот информация о погоде в Москве на 28 ноября 2024 года:\n",
      "\n",
      "- **Сейчас:** температура 0 °C, пасмурно, влажность 89%, ветер 2 м/с, вероятность осадков 0%.\n",
      "- **Вечером:** температура -1 °C, пасмурно, влажность 89%, ветер 2 м/с, вероятность осадков 0%.\n",
      "\u001b[0m\n"
     ]
    }
   ],
   "source": [
    "tools = [searchapi_tool]\n",
    "\n",
    "messages = []\n",
    "messages.append({\"role\": \"system\", \"text\": f\"Ты - полезный бот, который помогает пользователю с его проблемами. Старайся по возможности использовать инструмент searchapi, чтобы получить информацию из интернета.\"})\n",
    "messages.append({\"role\": \"user\", \"text\": \"Погода в Москве\"}) # если сделать запрос на \"Свежие новости за сегодня\", то скорее всего YandexGPT не сможет ответить, так как новости будут содержать острополитические темы, из-за которых запрос улетит в этику\n",
    "\n",
    "response = chat_completion_request(messages, tools=tools)\n",
    "\n",
    "toolCalls: list = get_function_call_from_response(response)\n",
    "messages.append({\n",
    "    'role': 'assistant',\n",
    "    'toolCallList': {'toolCalls': toolCalls}\n",
    "})\n",
    "\n",
    "toolResults: list = process_functions(toolCalls)\n",
    "messages.append({\n",
    "    'role': 'assistant',\n",
    "    'toolResultList': {'toolResults': toolResults}\n",
    "})\n",
    "\n",
    "response = chat_completion_request(messages, tools=tools, model=\"yandexgpt/rc\")\n",
    "messages.append(response['result']['alternatives'][0]['message'])\n",
    "pretty_print_conversation(messages)"
   ]
  },
  {
   "cell_type": "code",
   "execution_count": null,
   "metadata": {},
   "outputs": [],
   "source": []
  },
  {
   "cell_type": "markdown",
   "metadata": {},
   "source": []
  }
 ],
 "metadata": {
  "kernelspec": {
   "display_name": ".venv",
   "language": "python",
   "name": "python3"
  },
  "language_info": {
   "codemirror_mode": {
    "name": "ipython",
    "version": 3
   },
   "file_extension": ".py",
   "mimetype": "text/x-python",
   "name": "python",
   "nbconvert_exporter": "python",
   "pygments_lexer": "ipython3",
   "version": "3.12.6"
  }
 },
 "nbformat": 4,
 "nbformat_minor": 2
}
